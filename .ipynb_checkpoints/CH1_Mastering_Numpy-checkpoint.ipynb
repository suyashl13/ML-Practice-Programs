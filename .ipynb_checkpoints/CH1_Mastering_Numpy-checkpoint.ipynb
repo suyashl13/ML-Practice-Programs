{
 "cells": [
  {
   "cell_type": "markdown",
   "id": "81c6f2c9",
   "metadata": {},
   "source": [
    "# A Fresh Start"
   ]
  },
  {
   "cell_type": "markdown",
   "id": "e096a1e1",
   "metadata": {},
   "source": [
    "#### LCO - Mastering numpy"
   ]
  },
  {
   "cell_type": "code",
   "execution_count": 3,
   "id": "18632c77",
   "metadata": {},
   "outputs": [],
   "source": [
    "myList = [1,23,4,5,6]"
   ]
  },
  {
   "cell_type": "code",
   "execution_count": 4,
   "id": "b18816fa",
   "metadata": {},
   "outputs": [],
   "source": [
    "import numpy as np"
   ]
  },
  {
   "cell_type": "code",
   "execution_count": 5,
   "id": "517aed7a",
   "metadata": {},
   "outputs": [],
   "source": [
    "myOneDArray = np.array(myList)"
   ]
  },
  {
   "cell_type": "code",
   "execution_count": 6,
   "id": "b34931fa",
   "metadata": {},
   "outputs": [
    {
     "data": {
      "text/plain": [
       "array([ 1, 23,  4,  5,  6])"
      ]
     },
     "execution_count": 6,
     "metadata": {},
     "output_type": "execute_result"
    }
   ],
   "source": [
    "myOneDArray"
   ]
  },
  {
   "cell_type": "code",
   "execution_count": 7,
   "id": "432b0844",
   "metadata": {},
   "outputs": [],
   "source": [
    "myTwoList = [[1,2,3,4],[5,6,7,8],[9,10,11,12]]"
   ]
  },
  {
   "cell_type": "code",
   "execution_count": 8,
   "id": "1cb22a8d",
   "metadata": {},
   "outputs": [],
   "source": [
    "myTwoDarray = np.array(myTwoList)"
   ]
  },
  {
   "cell_type": "code",
   "execution_count": 9,
   "id": "b89a22b6",
   "metadata": {},
   "outputs": [
    {
     "data": {
      "text/plain": [
       "array([[ 1,  2,  3,  4],\n",
       "       [ 5,  6,  7,  8],\n",
       "       [ 9, 10, 11, 12]])"
      ]
     },
     "execution_count": 9,
     "metadata": {},
     "output_type": "execute_result"
    }
   ],
   "source": [
    "myTwoDarray"
   ]
  },
  {
   "cell_type": "code",
   "execution_count": 25,
   "id": "39e7a49e",
   "metadata": {},
   "outputs": [
    {
     "data": {
      "text/plain": [
       "array([ 0,  2,  4,  6,  8, 10, 12, 14, 16, 18, 20, 22, 24, 26, 28, 30, 32,\n",
       "       34, 36, 38, 40, 42, 44, 46, 48, 50, 52, 54, 56, 58, 60, 62, 64, 66,\n",
       "       68, 70, 72, 74, 76, 78, 80, 82, 84, 86, 88, 90, 92, 94, 96, 98])"
      ]
     },
     "execution_count": 25,
     "metadata": {},
     "output_type": "execute_result"
    }
   ],
   "source": [
    "np.arange(0,100,2)"
   ]
  },
  {
   "cell_type": "code",
   "execution_count": 29,
   "id": "8e62d173",
   "metadata": {},
   "outputs": [
    {
     "data": {
      "text/plain": [
       "array([0.])"
      ]
     },
     "execution_count": 29,
     "metadata": {},
     "output_type": "execute_result"
    }
   ],
   "source": [
    "np.zeros(1)"
   ]
  },
  {
   "cell_type": "code",
   "execution_count": null,
   "id": "0d9564df",
   "metadata": {},
   "outputs": [],
   "source": [
    "# Second Chapter"
   ]
  }
 ],
 "metadata": {
  "kernelspec": {
   "display_name": "Python 3",
   "language": "python",
   "name": "python3"
  },
  "language_info": {
   "codemirror_mode": {
    "name": "ipython",
    "version": 3
   },
   "file_extension": ".py",
   "mimetype": "text/x-python",
   "name": "python",
   "nbconvert_exporter": "python",
   "pygments_lexer": "ipython3",
   "version": "3.8.10"
  }
 },
 "nbformat": 4,
 "nbformat_minor": 5
}
