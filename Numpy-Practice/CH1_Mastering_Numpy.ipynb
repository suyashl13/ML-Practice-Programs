{
 "cells": [
  {
   "cell_type": "markdown",
   "id": "81c6f2c9",
   "metadata": {},
   "source": [
    "# A Fresh Start"
   ]
  },
  {
   "cell_type": "markdown",
   "id": "e096a1e1",
   "metadata": {},
   "source": [
    "#### LCO - Mastering numpy"
   ]
  },
  {
   "cell_type": "code",
   "execution_count": 1,
   "id": "18632c77",
   "metadata": {},
   "outputs": [],
   "source": [
    "myList = [1,23,4,5,6]"
   ]
  },
  {
   "cell_type": "code",
   "execution_count": 2,
   "id": "e23f5c1c",
   "metadata": {},
   "outputs": [],
   "source": [
    "import numpy as np"
   ]
  },
  {
   "cell_type": "code",
   "execution_count": 3,
   "id": "b47bdca4",
   "metadata": {},
   "outputs": [],
   "source": [
    "myOneDArray = np.array(myList)"
   ]
  },
  {
   "cell_type": "code",
   "execution_count": 4,
   "id": "1310a152",
   "metadata": {},
   "outputs": [
    {
     "data": {
      "text/plain": [
       "array([ 1, 23,  4,  5,  6])"
      ]
     },
     "execution_count": 4,
     "metadata": {},
     "output_type": "execute_result"
    }
   ],
   "source": [
    "myOneDArray"
   ]
  },
  {
   "cell_type": "code",
   "execution_count": 5,
   "id": "a078478e",
   "metadata": {},
   "outputs": [],
   "source": [
    "myTwoList = [[1,2,3,4],[5,6,7,8],[9,10,11,12]]"
   ]
  },
  {
   "cell_type": "code",
   "execution_count": 6,
   "id": "c18a2b15",
   "metadata": {},
   "outputs": [],
   "source": [
    "myTwoDarray = np.array(myTwoList)"
   ]
  },
  {
   "cell_type": "code",
   "execution_count": 7,
   "id": "652187cb",
   "metadata": {},
   "outputs": [
    {
     "data": {
      "text/plain": [
       "array([[ 1,  2,  3,  4],\n",
       "       [ 5,  6,  7,  8],\n",
       "       [ 9, 10, 11, 12]])"
      ]
     },
     "execution_count": 7,
     "metadata": {},
     "output_type": "execute_result"
    }
   ],
   "source": [
    "myTwoDarray"
   ]
  },
  {
   "cell_type": "code",
   "execution_count": 8,
   "id": "ee3a6402",
   "metadata": {},
   "outputs": [
    {
     "data": {
      "text/plain": [
       "array([ 0,  2,  4,  6,  8, 10, 12, 14, 16, 18, 20, 22, 24, 26, 28, 30, 32,\n",
       "       34, 36, 38, 40, 42, 44, 46, 48, 50, 52, 54, 56, 58, 60, 62, 64, 66,\n",
       "       68, 70, 72, 74, 76, 78, 80, 82, 84, 86, 88, 90, 92, 94, 96, 98])"
      ]
     },
     "execution_count": 8,
     "metadata": {},
     "output_type": "execute_result"
    }
   ],
   "source": [
    "np.arange(0,100,2)"
   ]
  },
  {
   "cell_type": "code",
   "execution_count": 9,
   "id": "1daecb1d",
   "metadata": {},
   "outputs": [
    {
     "data": {
      "text/plain": [
       "array([[1., 1., 1.],\n",
       "       [1., 1., 1.]])"
      ]
     },
     "execution_count": 9,
     "metadata": {},
     "output_type": "execute_result"
    }
   ],
   "source": [
    "np.zeros(1)\n",
    "np.ones((2,3))"
   ]
  },
  {
   "cell_type": "markdown",
   "id": "d2d4253e",
   "metadata": {},
   "source": [
    "# Second Chapter"
   ]
  },
  {
   "cell_type": "code",
   "execution_count": 10,
   "id": "f0a46e7f",
   "metadata": {},
   "outputs": [
    {
     "data": {
      "text/plain": [
       "array([0.        , 0.35714286, 0.71428571, 1.07142857, 1.42857143,\n",
       "       1.78571429, 2.14285714, 2.5       , 2.85714286, 3.21428571,\n",
       "       3.57142857, 3.92857143, 4.28571429, 4.64285714, 5.        ])"
      ]
     },
     "execution_count": 10,
     "metadata": {},
     "output_type": "execute_result"
    }
   ],
   "source": [
    "np.linspace(0,5,15)"
   ]
  },
  {
   "cell_type": "code",
   "execution_count": 11,
   "id": "7ffceaaa",
   "metadata": {},
   "outputs": [
    {
     "data": {
      "text/plain": [
       "array([[1., 0., 0., 0.],\n",
       "       [0., 1., 0., 0.],\n",
       "       [0., 0., 1., 0.],\n",
       "       [0., 0., 0., 1.]])"
      ]
     },
     "execution_count": 11,
     "metadata": {},
     "output_type": "execute_result"
    }
   ],
   "source": [
    "np.identity(4)"
   ]
  },
  {
   "cell_type": "code",
   "execution_count": 12,
   "id": "c031a2b8",
   "metadata": {},
   "outputs": [
    {
     "data": {
      "text/plain": [
       "array([[0.20233333, 0.95040592, 0.95088486, 0.79974569, 0.20059053],\n",
       "       [0.5870002 , 0.03974562, 0.04909455, 0.73374416, 0.72906986],\n",
       "       [0.68492431, 0.05023377, 0.16444752, 0.06292673, 0.66096796],\n",
       "       [0.11332407, 0.51613197, 0.19671405, 0.38537665, 0.20099574],\n",
       "       [0.59638141, 0.12719806, 0.52020206, 0.70126722, 0.06773466]])"
      ]
     },
     "execution_count": 12,
     "metadata": {},
     "output_type": "execute_result"
    }
   ],
   "source": [
    "np.random.rand(5,5)"
   ]
  },
  {
   "cell_type": "code",
   "execution_count": 13,
   "id": "1f21c30f",
   "metadata": {},
   "outputs": [
    {
     "data": {
      "text/plain": [
       "array([[-1.18768838, -0.66780529, -2.04722573,  0.7599397 , -1.65777376],\n",
       "       [-0.10364565, -0.26091806, -0.49028354, -1.52852135, -0.07196059],\n",
       "       [ 0.08497143, -0.29065349,  0.67472352,  0.63427531,  0.54253857],\n",
       "       [ 1.69644624, -1.08053845,  1.37760891, -0.55279418,  1.00546968],\n",
       "       [ 0.1229895 , -1.03225651,  0.73069897, -1.2320818 , -0.79891908]])"
      ]
     },
     "execution_count": 13,
     "metadata": {},
     "output_type": "execute_result"
    }
   ],
   "source": [
    "np.random.randn(5,5)"
   ]
  },
  {
   "cell_type": "code",
   "execution_count": 14,
   "id": "6ce7ccc4",
   "metadata": {},
   "outputs": [],
   "source": [
    "myNum = np.random.rand(25)"
   ]
  },
  {
   "cell_type": "code",
   "execution_count": 15,
   "id": "172bc4ca",
   "metadata": {},
   "outputs": [
    {
     "data": {
      "text/plain": [
       "array([[0.06812049, 0.67712025, 0.9294119 , 0.50204648, 0.55955464],\n",
       "       [0.56139488, 0.11687655, 0.68420312, 0.70222953, 0.61169081],\n",
       "       [0.79138802, 0.72761843, 0.67262595, 0.4736142 , 0.86691007],\n",
       "       [0.42090291, 0.0483378 , 0.49968331, 0.12243445, 0.90927591],\n",
       "       [0.98697061, 0.60127926, 0.6341252 , 0.70687566, 0.34751742]])"
      ]
     },
     "execution_count": 15,
     "metadata": {},
     "output_type": "execute_result"
    }
   ],
   "source": [
    "myReshaped = myNum.reshape(5,5)\n",
    "myReshaped"
   ]
  },
  {
   "cell_type": "code",
   "execution_count": null,
   "id": "1f7248a7",
   "metadata": {},
   "outputs": [],
   "source": []
  },
  {
   "cell_type": "code",
   "execution_count": null,
   "id": "967986fd",
   "metadata": {},
   "outputs": [],
   "source": []
  }
 ],
 "metadata": {
  "kernelspec": {
   "display_name": "Python 3",
   "language": "python",
   "name": "python3"
  },
  "language_info": {
   "codemirror_mode": {
    "name": "ipython",
    "version": 3
   },
   "file_extension": ".py",
   "mimetype": "text/x-python",
   "name": "python",
   "nbconvert_exporter": "python",
   "pygments_lexer": "ipython3",
   "version": "3.8.10"
  }
 },
 "nbformat": 4,
 "nbformat_minor": 5
}
