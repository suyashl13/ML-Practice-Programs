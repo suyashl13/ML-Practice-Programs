{
 "cells": [
  {
   "cell_type": "markdown",
   "id": "ef500849",
   "metadata": {},
   "source": [
    "# Intermidiate stuff with numpy."
   ]
  },
  {
   "cell_type": "code",
   "execution_count": 1,
   "id": "7f6f7b62",
   "metadata": {},
   "outputs": [],
   "source": [
    "import numpy as np"
   ]
  },
  {
   "cell_type": "code",
   "execution_count": 2,
   "id": "7e1d28a8",
   "metadata": {},
   "outputs": [],
   "source": [
    "myArray = np.arange(10,21)"
   ]
  },
  {
   "cell_type": "code",
   "execution_count": 3,
   "id": "c873d1c8",
   "metadata": {},
   "outputs": [
    {
     "data": {
      "text/plain": [
       "array([10, 11, 12, 13, 14, 15, 16, 17, 18, 19, 20])"
      ]
     },
     "execution_count": 3,
     "metadata": {},
     "output_type": "execute_result"
    }
   ],
   "source": [
    "myArray"
   ]
  },
  {
   "cell_type": "code",
   "execution_count": 4,
   "id": "e75938ec",
   "metadata": {},
   "outputs": [
    {
     "data": {
      "text/plain": [
       "10"
      ]
     },
     "execution_count": 4,
     "metadata": {},
     "output_type": "execute_result"
    }
   ],
   "source": [
    "myArray[0]"
   ]
  },
  {
   "cell_type": "code",
   "execution_count": 5,
   "id": "77a1cd88",
   "metadata": {},
   "outputs": [
    {
     "data": {
      "text/plain": [
       "array([11, 12, 13])"
      ]
     },
     "execution_count": 5,
     "metadata": {},
     "output_type": "execute_result"
    }
   ],
   "source": [
    "myArray[1:4]"
   ]
  },
  {
   "cell_type": "code",
   "execution_count": 6,
   "id": "d53ea635",
   "metadata": {},
   "outputs": [
    {
     "data": {
      "text/plain": [
       "array([10, 11, 12, 13])"
      ]
     },
     "execution_count": 6,
     "metadata": {},
     "output_type": "execute_result"
    }
   ],
   "source": [
    "myArray[:4]"
   ]
  },
  {
   "cell_type": "code",
   "execution_count": 7,
   "id": "30d38e8e",
   "metadata": {},
   "outputs": [],
   "source": [
    "myArray[:] = 50"
   ]
  },
  {
   "cell_type": "code",
   "execution_count": 8,
   "id": "a9a6f6b3",
   "metadata": {},
   "outputs": [
    {
     "data": {
      "text/plain": [
       "array([50, 50, 50, 50, 50, 50, 50, 50, 50, 50, 50])"
      ]
     },
     "execution_count": 8,
     "metadata": {},
     "output_type": "execute_result"
    }
   ],
   "source": [
    "myArray"
   ]
  },
  {
   "cell_type": "code",
   "execution_count": 9,
   "id": "2e760f50",
   "metadata": {},
   "outputs": [
    {
     "data": {
      "text/plain": [
       "array([12, 50, 50, 50, 50, 50, 50, 50, 50, 50, 50])"
      ]
     },
     "execution_count": 9,
     "metadata": {},
     "output_type": "execute_result"
    }
   ],
   "source": [
    "# Isssue use .copy() method to copy the arrays.\n",
    "copyArrauy =  myArray\n",
    "myArray[0] = 12\n",
    "copyArrauy"
   ]
  },
  {
   "cell_type": "code",
   "execution_count": null,
   "id": "6efca906",
   "metadata": {},
   "outputs": [],
   "source": []
  },
  {
   "cell_type": "code",
   "execution_count": null,
   "id": "f62821a4",
   "metadata": {},
   "outputs": [],
   "source": []
  },
  {
   "cell_type": "code",
   "execution_count": null,
   "id": "d61fd79a",
   "metadata": {},
   "outputs": [],
   "source": []
  }
 ],
 "metadata": {
  "kernelspec": {
   "display_name": "Python 3",
   "language": "python",
   "name": "python3"
  },
  "language_info": {
   "codemirror_mode": {
    "name": "ipython",
    "version": 3
   },
   "file_extension": ".py",
   "mimetype": "text/x-python",
   "name": "python",
   "nbconvert_exporter": "python",
   "pygments_lexer": "ipython3",
   "version": "3.8.10"
  }
 },
 "nbformat": 4,
 "nbformat_minor": 5
}
